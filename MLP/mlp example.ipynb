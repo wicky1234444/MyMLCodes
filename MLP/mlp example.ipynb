{
 "cells": [
  {
   "cell_type": "code",
   "execution_count": 5,
   "metadata": {},
   "outputs": [
    {
     "name": "stdout",
     "output_type": "stream",
     "text": [
      "          X         Y  class\n",
      "0  3.000000  0.000000      1\n",
      "1 -0.708004  2.915258      1\n",
      "2 -2.665820 -1.376010      1\n",
      "3  1.966278 -2.265778      1\n",
      "4  1.737731  2.445463      1\n"
     ]
    }
   ],
   "source": [
    "## loading dataset\n",
    "\n",
    "import sys\n",
    "import numpy as np\n",
    "sys.path.append('../GitHub/MyMLCodes/CNN/')\n",
    "sys.path.append('../GitHub/MyMLCodes/MLP/')\n",
    "import pandas as pd\n",
    "\n",
    "dataset = pd.read_csv('circle_data.csv')\n",
    "del dataset['Unnamed: 0']\n",
    "train = dataset[0:320]\n",
    "test = dataset[320:]\n",
    "print(train.head())"
   ]
  },
  {
   "cell_type": "code",
   "execution_count": 17,
   "metadata": {},
   "outputs": [],
   "source": [
    "from sklearn.utils import shuffle\n",
    "\n",
    "def training(train, epochs, mlp):\n",
    "    train = train.values\n",
    "    for i in range(epochs):\n",
    "        train = shuffle(train)\n",
    "        error = 0\n",
    "        for j in range(train.shape[0]):\n",
    "            out = mlp.Forward(train[j][0:2])\n",
    "            if train[j][2]==1:\n",
    "                grads = mlp.gradient_calci(out, np.array([1,0]))\n",
    "                error+=0.5*np.sum(np.power((np.array([1,0])-out[-1]),2))\n",
    "            else:\n",
    "                grads = mlp.gradient_calci(out, np.array([0,1]))\n",
    "                error+=0.5*np.sum(np.power((np.array([0,1])-out[-1]),2))\n",
    "            mlp.backprop(grads)\n",
    "        if i%100==0:\n",
    "            print('epoch: ',i, ' error: ', error)\n",
    "            \n",
    "def testing(test, mlp):\n",
    "    test = test.values\n",
    "    accuracy = 0\n",
    "    for i in range(test.shape[0]):\n",
    "        out = mlp.Forward(test[i][0:2])\n",
    "        if test[i][2]==1 and out[-1][0]>=out[-1][1]:\n",
    "            accuracy+=1\n",
    "        elif test[i][2]==2 and out[-1][0]<=out[-1][1]:\n",
    "            accuracy+=1\n",
    "    print('accuracy:', accuracy/test.shape[0])\n",
    "\n",
    "def predict(X, mlp):\n",
    "    predictions = []\n",
    "    for i in range(X.shape[0]):\n",
    "        out = mlp.Forward(X[i][0:2])\n",
    "        predictions.append(np.argmax(out[-1]))\n",
    "    return predictions"
   ]
  },
  {
   "cell_type": "code",
   "execution_count": 25,
   "metadata": {
    "scrolled": true
   },
   "outputs": [
    {
     "name": "stdout",
     "output_type": "stream",
     "text": [
      "train accuracy before training:\n",
      "accuracy: 0.625\n",
      "test accuracy before training:\n",
      "accuracy: 0.0\n",
      "epoch:  0  error:  93.10978512737344\n",
      "epoch:  100  error:  73.34304724954845\n",
      "epoch:  200  error:  57.85665578144515\n",
      "epoch:  300  error:  30.312200099350907\n",
      "epoch:  400  error:  15.529571824786506\n",
      "epoch:  500  error:  10.243527127106642\n",
      "epoch:  600  error:  7.618809259507242\n",
      "epoch:  700  error:  6.131632000934496\n",
      "epoch:  800  error:  5.074271509540274\n",
      "epoch:  900  error:  4.328745117447485\n",
      "train accuracy after training:\n",
      "accuracy: 1.0\n",
      "test accuracy after training:\n",
      "accuracy: 1.0\n"
     ]
    }
   ],
   "source": [
    "import MLP\n",
    "\n",
    "m1 = MLP.MLP([2, 5, 2], lr = 0.03)\n",
    "print('train accuracy before training:')\n",
    "testing(train, m1)\n",
    "print('test accuracy before training:')\n",
    "testing(test, m1)\n",
    "training(train,1000, m1)\n",
    "print('train accuracy after training:')\n",
    "testing(train, m1)\n",
    "print('test accuracy after training:')\n",
    "testing(test,m1)"
   ]
  },
  {
   "cell_type": "code",
   "execution_count": 26,
   "metadata": {},
   "outputs": [
    {
     "data": {
      "image/png": "[encoded data removed]",
      "text/plain": [
       "<Figure size 432x288 with 1 Axes>"
      ]
     },
     "metadata": {
      "needs_background": "light"
     },
     "output_type": "display_data"
    }
   ],
   "source": [
    "##visualizing the decision boundary\n",
    "\n",
    "import matplotlib.pyplot as plt\n",
    "\n",
    "df1 = train[train['class']==1]\n",
    "df2 = train[train['class']==2]\n",
    "\n",
    "x= np.arange(-4.5,4.5,0.05)\n",
    "y = np.arange(-4.5,4.5,0.05)\n",
    "xx,xy = np.meshgrid(x,y)\n",
    "X = np.c_[xx.ravel(), xy.ravel()]\n",
    "p = np.array(predict(X, m1))\n",
    "p = p.reshape(xx.shape)\n",
    "plt.plot(df1.X, df1.Y, 'rx', label = 'class 1')\n",
    "plt.plot(df2.X, df2.Y, 'bx', label = 'class 2')\n",
    "plt.contourf(xx, xy, p, cmap=plt.cm.Paired, alpha=1)\n",
    "plt.legend()\n",
    "plt.show()"
   ]
  }
 ],
 "metadata": {
  "kernelspec": {
   "display_name": "Python 3.7.2 64-bit",
   "language": "python",
   "name": "python37264bit98086335ecdc4ac6a345fa60a8b3193f"
  },
  "language_info": {
   "codemirror_mode": {
    "name": "ipython",
    "version": 3
   },
   "file_extension": ".py",
   "mimetype": "text/x-python",
   "name": "python",
   "nbconvert_exporter": "python",
   "pygments_lexer": "ipython3",
   "version": "3.7.2"
  }
 },
 "nbformat": 4,
 "nbformat_minor": 2
}
